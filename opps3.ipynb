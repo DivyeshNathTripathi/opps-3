{
  "nbformat": 4,
  "nbformat_minor": 0,
  "metadata": {
    "colab": {
      "provenance": []
    },
    "kernelspec": {
      "name": "python3",
      "display_name": "Python 3"
    },
    "language_info": {
      "name": "python"
    }
  },
  "cells": [
    {
      "cell_type": "markdown",
      "source": [
        "Q1: Create a Vehicle class with an __init__ method having instance variables as name_of_vehicle, max_speed, and average_of_vehicle.\n",
        "\n",
        "**Amswer:**"
      ],
      "metadata": {
        "id": "XIg2ItYYMGBZ"
      }
    },
    {
      "cell_type": "code",
      "execution_count": 1,
      "metadata": {
        "colab": {
          "base_uri": "https://localhost:8080/"
        },
        "id": "fHyjYokoMFeH",
        "outputId": "a2ce791f-505f-4796-ebf8-5ef28559db59"
      },
      "outputs": [
        {
          "output_type": "stream",
          "name": "stdout",
          "text": [
            "Vehicle Name: Bike, Max Speed: 120, Average: 50\n"
          ]
        }
      ],
      "source": [
        "class Vehicle:\n",
        "    def __init__(self, name_of_vehicle, max_speed, average_of_vehicle):\n",
        "        self.name_of_vehicle = name_of_vehicle\n",
        "        self.max_speed = max_speed\n",
        "        self.average_of_vehicle = average_of_vehicle\n",
        "\n",
        "# Example\n",
        "vehicle = Vehicle(\"Bike\", 120, 50)\n",
        "print(f\"Vehicle Name: {vehicle.name_of_vehicle}, Max Speed: {vehicle.max_speed}, Average: {vehicle.average_of_vehicle}\")\n"
      ]
    },
    {
      "cell_type": "markdown",
      "source": [
        "Q2: Create a child class Car from the Vehicle class, which will inherit the Vehicle class. Create a method named seating_capacity which takes capacity as an argument and returns the name of the vehicle and its seating capacity.\n",
        "\n",
        "**Answer:**"
      ],
      "metadata": {
        "id": "dc1SftMsMRXS"
      }
    },
    {
      "cell_type": "code",
      "source": [
        "class Car(Vehicle):\n",
        "    def seating_capacity(self, capacity):\n",
        "        return f\"The {self.name_of_vehicle} has a seating capacity of {capacity}.\"\n",
        "\n",
        "# Example\n",
        "car = Car(\"Sedan\", 180, 15)\n",
        "print(car.seating_capacity(5))\n"
      ],
      "metadata": {
        "colab": {
          "base_uri": "https://localhost:8080/"
        },
        "id": "7yRwO4HUMVkc",
        "outputId": "be2a1a85-67b7-4197-8801-0e95c6b7526c"
      },
      "execution_count": 2,
      "outputs": [
        {
          "output_type": "stream",
          "name": "stdout",
          "text": [
            "The Sedan has a seating capacity of 5.\n"
          ]
        }
      ]
    },
    {
      "cell_type": "markdown",
      "source": [
        "Q3: What is multiple inheritance? Write a Python code to demonstrate multiple inheritance.\n",
        "\n",
        "**Answer:**\n",
        "Multiple inheritance is a feature of OOP where a class can inherit from more than one base class. This allows the derived class to access attributes and methods from all the parent classes.\n",
        "\n",
        "**Example:**"
      ],
      "metadata": {
        "id": "bKDUKW-JMZAk"
      }
    },
    {
      "cell_type": "code",
      "source": [
        "class Engine:\n",
        "    def engine_type(self):\n",
        "        return \"This vehicle has a petrol engine.\"\n",
        "\n",
        "class Transmission:\n",
        "    def transmission_type(self):\n",
        "        return \"This vehicle has a manual transmission.\"\n",
        "\n",
        "class Car(Vehicle, Engine, Transmission):\n",
        "    pass\n",
        "\n",
        "# Example\n",
        "car = Car(\"SUV\", 200, 12)\n",
        "print(car.engine_type())\n",
        "print(car.transmission_type())\n"
      ],
      "metadata": {
        "colab": {
          "base_uri": "https://localhost:8080/"
        },
        "id": "5pv5ZqrpMjyJ",
        "outputId": "b12882d7-556c-4970-db09-54e4645dd78d"
      },
      "execution_count": 3,
      "outputs": [
        {
          "output_type": "stream",
          "name": "stdout",
          "text": [
            "This vehicle has a petrol engine.\n",
            "This vehicle has a manual transmission.\n"
          ]
        }
      ]
    },
    {
      "cell_type": "markdown",
      "source": [
        "Q4: What are getters and setters in Python? Create a class with a getter and setter method.\n",
        "\n",
        "**Answer:**\n",
        "Getters and setters are used to access and modify private instance variables in Python.\n",
        "\n",
        "**Example:**"
      ],
      "metadata": {
        "id": "s52cJ9DCMouv"
      }
    },
    {
      "cell_type": "code",
      "source": [
        "class Student:\n",
        "    def __init__(self, name, age):\n",
        "        self.__name = name  # Private attribute\n",
        "        self.__age = age    # Private attribute\n",
        "\n",
        "    # Getter for name\n",
        "    @property\n",
        "    def name(self):\n",
        "        return self.__name\n",
        "\n",
        "    # Setter for name\n",
        "    @name.setter\n",
        "    def name(self, name):\n",
        "        self.__name = name\n",
        "\n",
        "# Example\n",
        "student = Student(\"Alice\", 20)\n",
        "print(student.name)  # Using the getter\n",
        "student.name = \"Bob\"  # Using the setter\n",
        "print(student.name)\n"
      ],
      "metadata": {
        "colab": {
          "base_uri": "https://localhost:8080/"
        },
        "id": "_1a_BVJXMv1z",
        "outputId": "1dacb74f-2c7c-4da6-9c17-c892b2122fd0"
      },
      "execution_count": 4,
      "outputs": [
        {
          "output_type": "stream",
          "name": "stdout",
          "text": [
            "Alice\n",
            "Bob\n"
          ]
        }
      ]
    },
    {
      "cell_type": "markdown",
      "source": [
        "Q5: What is method overriding in Python? Write a Python code to demonstrate method overriding.\n",
        "\n",
        "**Answer:**\n",
        "Method overriding occurs when a child class provides a specific implementation of a method that is already defined in its parent class. The overridden method in the child class has the same name, parameters, and return type as the one in the parent class.\n",
        "\n",
        "**Example:**"
      ],
      "metadata": {
        "id": "dfiQj2DtM09K"
      }
    },
    {
      "cell_type": "code",
      "source": [
        "class Vehicle:\n",
        "    def describe(self):\n",
        "        return \"This is a generic vehicle.\"\n",
        "\n",
        "class Car(Vehicle):\n",
        "    def describe(self):\n",
        "        return \"This is a car.\"\n",
        "\n",
        "# Example\n",
        "vehicle = Vehicle()\n",
        "car = Car()\n",
        "print(vehicle.describe())  # Output: This is a generic vehicle.\n",
        "print(car.describe())      # Output: This is a car.\n"
      ],
      "metadata": {
        "colab": {
          "base_uri": "https://localhost:8080/"
        },
        "id": "dhRi-2-cMzIq",
        "outputId": "3b551ad3-4a89-4bcb-a6bb-d986d4bff2bb"
      },
      "execution_count": 5,
      "outputs": [
        {
          "output_type": "stream",
          "name": "stdout",
          "text": [
            "This is a generic vehicle.\n",
            "This is a car.\n"
          ]
        }
      ]
    },
    {
      "cell_type": "markdown",
      "source": [],
      "metadata": {
        "id": "sKeTNwAATd--"
      }
    }
  ]
}